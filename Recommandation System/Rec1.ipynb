{
 "cells": [
  {
   "cell_type": "code",
   "execution_count": 18,
   "metadata": {
    "collapsed": false,
    "scrolled": true
   },
   "outputs": [],
   "source": [
    "import pandas as pd\n",
    "import numpy as np\n",
    "import scipy.sparse as sps"
   ]
  },
  {
   "cell_type": "code",
   "execution_count": 51,
   "metadata": {
    "collapsed": false
   },
   "outputs": [],
   "source": [
    "def MF ( I , J , VAL ,m=23514 , n=29105 , k=20 , n_steps = 80 , eps = 0.1 , tresh=0.1):\n",
    "    \n",
    "    \n",
    "    U = np.random.random([m,k])\n",
    "    V = np.random.random([k,n])\n",
    "\n",
    "    #E = np.ones([m,n])\n",
    "    #while (E.sum().sum() > tresh):\n",
    "\n",
    "    for t in range(n_steps):\n",
    "\n",
    "        # print('step is ' , t)\n",
    "\n",
    "        K = np.zeros([m,n])\n",
    "        E = np.zeros([m,n])\n",
    "        K_U = np.zeros([m,k])\n",
    "        K_V = np.zeros([k,n])\n",
    "\n",
    "        for u in range(len(I)):\n",
    "            K[I[u],J[u]] = np.dot(U[I[u],:] , V[:,J[u]]) - VAL[u]\n",
    "            E[I[u],J[u]] = K[I[u],J[u]]**2\n",
    "\n",
    "\n",
    "        # K = np.matmul(U,V) - M\n",
    "\n",
    "        for u in range(len(I)):\n",
    "            K_U[I[u],:] += K[I[u],J[u]]*np.transpose(V[:,J[u]])\n",
    "            K_V[:,J[u]] += K[I[u],J[u]]*np.transpose(U[I[u],:])\n",
    "\n",
    "        # K_U = np.matmul(K,np.transpose(V)) #shape m*n * n*k = m*k\n",
    "        # K_V = np.matmul(np.transpose(U),K) #shape k*m * m*n = k*n\n",
    "\n",
    "        U = U - ((eps/(len(I))) * K_U) \n",
    "        V = V - ((eps/(len(I))) * K_V)\n",
    "\n",
    "    print(E.sum().sum()/(len(I)))\n",
    "    #print(M)\n",
    "    #print(np.matmul(U,V))"
   ]
  },
  {
   "cell_type": "code",
   "execution_count": null,
   "metadata": {
    "collapsed": true
   },
   "outputs": [],
   "source": [
    "df = pd.read_csv('foodsRecoded.csv' , header= None , delimiter =':' )\n",
    "df_mat = df.pivot_table(index = 0 , columns= 1 , values= 2)\n",
    "\n",
    "df_mat.index.name = 'user'\n",
    "df_mat.columns.name = 'product'\n",
    "print('data is read as a dataframe')\n",
    "\n",
    "M = sps.coo_matrix(df_mat.fillna(0))\n",
    "print('data is read as a sprase matrix')\n",
    "\n",
    "I , J , VAL = sps.find(M)\n",
    "\n",
    "m = M.shape[0]\n",
    "n = M.shape[1]"
   ]
  },
  {
   "cell_type": "code",
   "execution_count": 52,
   "metadata": {
    "collapsed": false
   },
   "outputs": [
    {
     "name": "stdout",
     "output_type": "stream",
     "text": [
      "3.11238241675\n"
     ]
    }
   ],
   "source": [
    "MF(I,J,VAL)"
   ]
  }
 ],
 "metadata": {
  "kernelspec": {
   "display_name": "Python 3",
   "language": "python",
   "name": "python3"
  },
  "language_info": {
   "codemirror_mode": {
    "name": "ipython",
    "version": 3
   },
   "file_extension": ".py",
   "mimetype": "text/x-python",
   "name": "python",
   "nbconvert_exporter": "python",
   "pygments_lexer": "ipython3",
   "version": "3.6.0"
  }
 },
 "nbformat": 4,
 "nbformat_minor": 2
}
